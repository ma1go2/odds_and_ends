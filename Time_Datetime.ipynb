{
 "cells": [
  {
   "cell_type": "markdown",
   "id": "8c316227",
   "metadata": {},
   "source": [
    "# time 모듈"
   ]
  },
  {
   "cell_type": "code",
   "execution_count": 1,
   "id": "4f90140d",
   "metadata": {},
   "outputs": [],
   "source": [
    "import time"
   ]
  },
  {
   "cell_type": "markdown",
   "id": "ffaadd7f",
   "metadata": {},
   "source": [
    "## time 메서드\n",
    "Unix timestamp를 소수로 반환한다.\n",
    "> [Unix timestamp은 1970년 1월 1일 00:00:00 UTC부터 몇 초 경과했는지를 스칼라 실수로 나타낸다.](https://ko.wikipedia.org/wiki/%EC%9C%A0%EB%8B%89%EC%8A%A4_%EC%8B%9C%EA%B0%84)"
   ]
  },
  {
   "cell_type": "code",
   "execution_count": 24,
   "id": "91362a56",
   "metadata": {},
   "outputs": [
    {
     "data": {
      "text/plain": [
       "1686289275.3927498"
      ]
     },
     "execution_count": 24,
     "metadata": {},
     "output_type": "execute_result"
    }
   ],
   "source": [
    "time.time()"
   ]
  },
  {
   "cell_type": "markdown",
   "id": "467c97fb",
   "metadata": {},
   "source": [
    "## gmtime 메서드\n",
    "timestamp값을 GMT(그리니치 평균시) 기준의 struct_time 값으로 변환해 준다."
   ]
  },
  {
   "cell_type": "code",
   "execution_count": 26,
   "id": "d370b1fe",
   "metadata": {},
   "outputs": [
    {
     "data": {
      "text/plain": [
       "time.struct_time(tm_year=2023, tm_mon=6, tm_mday=9, tm_hour=5, tm_min=41, tm_sec=15, tm_wday=4, tm_yday=160, tm_isdst=0)"
      ]
     },
     "execution_count": 26,
     "metadata": {},
     "output_type": "execute_result"
    }
   ],
   "source": [
    "time.gmtime(1686289275.3927498)"
   ]
  },
  {
   "cell_type": "markdown",
   "id": "736e700a",
   "metadata": {},
   "source": [
    "## loacltime 메서드\n",
    "timestamp값을 현지 기준의 struct_time 값으로 변환해 준다."
   ]
  },
  {
   "cell_type": "code",
   "execution_count": 27,
   "id": "0271c57a",
   "metadata": {},
   "outputs": [
    {
     "data": {
      "text/plain": [
       "time.struct_time(tm_year=2023, tm_mon=6, tm_mday=9, tm_hour=14, tm_min=41, tm_sec=15, tm_wday=4, tm_yday=160, tm_isdst=0)"
      ]
     },
     "execution_count": 27,
     "metadata": {},
     "output_type": "execute_result"
    }
   ],
   "source": [
    "time.localtime(1686289275.3927498)"
   ]
  },
  {
   "cell_type": "markdown",
   "id": "613b249f",
   "metadata": {},
   "source": [
    "## ctime 메서드\n",
    "timestamp값을 현지 시간대 기준으로 `월 일 시:분:초 년` 으로 포멧으로 변환해 준다."
   ]
  },
  {
   "cell_type": "code",
   "execution_count": 28,
   "id": "64732a5f",
   "metadata": {},
   "outputs": [
    {
     "data": {
      "text/plain": [
       "'Fri Jun  9 14:41:15 2023'"
      ]
     },
     "execution_count": 28,
     "metadata": {},
     "output_type": "execute_result"
    }
   ],
   "source": [
    "time.ctime(1686289275.3927498)"
   ]
  },
  {
   "cell_type": "markdown",
   "id": "50b35d07",
   "metadata": {},
   "source": [
    "## strftime 메서드\n",
    "struct_time객체를 포맷팅 str객체로 반환"
   ]
  },
  {
   "cell_type": "code",
   "execution_count": 32,
   "id": "d833f4ce",
   "metadata": {},
   "outputs": [
    {
     "data": {
      "text/plain": [
       "'2023-06-09 02:41:15 PM'"
      ]
     },
     "execution_count": 32,
     "metadata": {},
     "output_type": "execute_result"
    }
   ],
   "source": [
    "t = time.localtime(1686289275.3927498)\n",
    "time.strftime('%Y-%m-%d %I:%M:%S %p', t)"
   ]
  },
  {
   "cell_type": "markdown",
   "id": "8df8d2ef",
   "metadata": {},
   "source": [
    "## strptime 메서드\n",
    "strftime 반대 struct_time객체로 반환"
   ]
  },
  {
   "cell_type": "code",
   "execution_count": 34,
   "id": "1f45fe7e",
   "metadata": {},
   "outputs": [
    {
     "data": {
      "text/plain": [
       "time.struct_time(tm_year=2023, tm_mon=6, tm_mday=9, tm_hour=14, tm_min=41, tm_sec=15, tm_wday=4, tm_yday=160, tm_isdst=-1)"
      ]
     },
     "execution_count": 34,
     "metadata": {},
     "output_type": "execute_result"
    }
   ],
   "source": [
    "string ='2023-06-09 02:41:15 PM'\n",
    "time.strptime(string, '%Y-%m-%d %I:%M:%S %p' )"
   ]
  },
  {
   "cell_type": "markdown",
   "id": "22a1f367",
   "metadata": {},
   "source": [
    "## sleep\n",
    "지연"
   ]
  },
  {
   "cell_type": "code",
   "execution_count": 38,
   "id": "3f88d5e1",
   "metadata": {},
   "outputs": [
    {
     "name": "stdout",
     "output_type": "stream",
     "text": [
      "Wall time: 5.01 s\n",
      "5초 뒤\n"
     ]
    }
   ],
   "source": [
    "%time time.sleep(5)\n",
    "print('5초 뒤')"
   ]
  },
  {
   "cell_type": "code",
   "execution_count": 39,
   "id": "2960174b",
   "metadata": {},
   "outputs": [],
   "source": [
    "time?"
   ]
  },
  {
   "cell_type": "markdown",
   "id": "992248f6",
   "metadata": {},
   "source": [
    "### 번외 "
   ]
  },
  {
   "cell_type": "code",
   "execution_count": 80,
   "id": "0a600abc",
   "metadata": {},
   "outputs": [
    {
     "data": {
      "text/plain": [
       "time.struct_time(tm_year=2023, tm_mon=6, tm_mday=9, tm_hour=15, tm_min=3, tm_sec=31, tm_wday=4, tm_yday=160, tm_isdst=0)"
      ]
     },
     "execution_count": 80,
     "metadata": {},
     "output_type": "execute_result"
    }
   ],
   "source": [
    "t = time.localtime(time.time())\n",
    "t"
   ]
  },
  {
   "cell_type": "code",
   "execution_count": 81,
   "id": "dd7fcbe3",
   "metadata": {},
   "outputs": [
    {
     "data": {
      "text/plain": [
       "2023"
      ]
     },
     "execution_count": 81,
     "metadata": {},
     "output_type": "execute_result"
    }
   ],
   "source": [
    "t.tm_year"
   ]
  },
  {
   "cell_type": "code",
   "execution_count": 82,
   "id": "86fcf4aa",
   "metadata": {},
   "outputs": [
    {
     "name": "stdout",
     "output_type": "stream",
     "text": [
      "2023\n",
      "6\n",
      "9\n",
      "15\n",
      "3\n",
      "31\n",
      "4\n",
      "160\n",
      "0\n"
     ]
    }
   ],
   "source": [
    "for i in t:\n",
    "    print(i)"
   ]
  },
  {
   "cell_type": "markdown",
   "id": "0505cb61",
   "metadata": {},
   "source": [
    "#### 포맷팅\n",
    "요일"
   ]
  },
  {
   "cell_type": "code",
   "execution_count": 83,
   "id": "51f75fcd",
   "metadata": {},
   "outputs": [
    {
     "data": {
      "text/plain": [
       "'요일: Fri,  Friday, 5'"
      ]
     },
     "execution_count": 83,
     "metadata": {},
     "output_type": "execute_result"
    }
   ],
   "source": [
    "time.strftime('요일: %a,  %A, %w', t)"
   ]
  },
  {
   "cell_type": "markdown",
   "id": "caabc9ec",
   "metadata": {},
   "source": [
    "일, 월"
   ]
  },
  {
   "cell_type": "code",
   "execution_count": 84,
   "id": "afbb96aa",
   "metadata": {},
   "outputs": [
    {
     "data": {
      "text/plain": [
       "'일: 09, 월: Jun, June, 06'"
      ]
     },
     "execution_count": 84,
     "metadata": {},
     "output_type": "execute_result"
    }
   ],
   "source": [
    "time.strftime('일: %d, 월: %b, %B, %m', t)"
   ]
  },
  {
   "cell_type": "markdown",
   "id": "9d05fbaa",
   "metadata": {},
   "source": [
    "연도"
   ]
  },
  {
   "cell_type": "code",
   "execution_count": 85,
   "id": "6af73eef",
   "metadata": {},
   "outputs": [
    {
     "data": {
      "text/plain": [
       "'연도: 23, 2023'"
      ]
     },
     "execution_count": 85,
     "metadata": {},
     "output_type": "execute_result"
    }
   ],
   "source": [
    "time.strftime('연도: %y, %Y', t)"
   ]
  },
  {
   "cell_type": "markdown",
   "id": "88fc5f3c",
   "metadata": {},
   "source": [
    "시간"
   ]
  },
  {
   "cell_type": "code",
   "execution_count": 86,
   "id": "000ef85a",
   "metadata": {},
   "outputs": [
    {
     "data": {
      "text/plain": [
       "'시간: 15, 03 PM'"
      ]
     },
     "execution_count": 86,
     "metadata": {},
     "output_type": "execute_result"
    }
   ],
   "source": [
    "time.strftime('시간: %H, %I %p', t)"
   ]
  },
  {
   "cell_type": "markdown",
   "id": "a1e76c16",
   "metadata": {},
   "source": [
    "분, 초, 시간대"
   ]
  },
  {
   "cell_type": "code",
   "execution_count": 87,
   "id": "3d5c4b3f",
   "metadata": {},
   "outputs": [
    {
     "data": {
      "text/plain": [
       "'분: 03, 초: 31, 시간대: 대한민국 표준시'"
      ]
     },
     "execution_count": 87,
     "metadata": {},
     "output_type": "execute_result"
    }
   ],
   "source": [
    "time.strftime('분: %M, 초: %S, 시간대: %Z', t)"
   ]
  },
  {
   "cell_type": "markdown",
   "id": "9f483d9b",
   "metadata": {},
   "source": [
    "1월 1일부터 경과한 일수"
   ]
  },
  {
   "cell_type": "code",
   "execution_count": 88,
   "id": "d9405d3e",
   "metadata": {},
   "outputs": [
    {
     "data": {
      "text/plain": [
       "'1월 1일부터 경과한 일수: 160'"
      ]
     },
     "execution_count": 88,
     "metadata": {},
     "output_type": "execute_result"
    }
   ],
   "source": [
    "time.strftime('1월 1일부터 경과한 일수: %j', t)"
   ]
  },
  {
   "cell_type": "markdown",
   "id": "e0b7aa10",
   "metadata": {},
   "source": [
    "주 시작 일수"
   ]
  },
  {
   "cell_type": "code",
   "execution_count": 89,
   "id": "00e14041",
   "metadata": {},
   "outputs": [
    {
     "name": "stdout",
     "output_type": "stream",
     "text": [
      "일요일이 한 주의 시작으로 한 일수: 23\n",
      "월요일이 한 주의 시작으로 한 일수: 23\n"
     ]
    }
   ],
   "source": [
    "print(time.strftime('일요일이 한 주의 시작으로 한 일수: %U', t),\n",
    "      time.strftime('월요일이 한 주의 시작으로 한 일수: %W', t), sep='\\n')"
   ]
  },
  {
   "cell_type": "markdown",
   "id": "b9cb002d",
   "metadata": {},
   "source": [
    "요일 월 일 시간 년도 기준"
   ]
  },
  {
   "cell_type": "code",
   "execution_count": 90,
   "id": "845e5e05",
   "metadata": {
    "scrolled": true
   },
   "outputs": [
    {
     "data": {
      "text/plain": [
       "'Fri Jun  9 15:03:31 2023'"
      ]
     },
     "execution_count": 90,
     "metadata": {},
     "output_type": "execute_result"
    }
   ],
   "source": [
    "time.strftime('%c',t)"
   ]
  },
  {
   "cell_type": "markdown",
   "id": "1dd17b48",
   "metadata": {},
   "source": [
    "월 일 년"
   ]
  },
  {
   "cell_type": "code",
   "execution_count": 91,
   "id": "f7b76068",
   "metadata": {},
   "outputs": [
    {
     "data": {
      "text/plain": [
       "'06/09/23'"
      ]
     },
     "execution_count": 91,
     "metadata": {},
     "output_type": "execute_result"
    }
   ],
   "source": [
    "time.strftime('%x',t)"
   ]
  },
  {
   "cell_type": "markdown",
   "id": "95ef9985",
   "metadata": {},
   "source": [
    "시 분 초"
   ]
  },
  {
   "cell_type": "code",
   "execution_count": 92,
   "id": "830110b5",
   "metadata": {},
   "outputs": [
    {
     "data": {
      "text/plain": [
       "'15:03:31'"
      ]
     },
     "execution_count": 92,
     "metadata": {},
     "output_type": "execute_result"
    }
   ],
   "source": [
    "time.strftime('%X',t)"
   ]
  },
  {
   "cell_type": "markdown",
   "id": "f4ff095b",
   "metadata": {},
   "source": [
    "# datetime 모듈 "
   ]
  },
  {
   "cell_type": "code",
   "execution_count": 154,
   "id": "3db4fd6e",
   "metadata": {},
   "outputs": [],
   "source": [
    "import datetime as dt"
   ]
  },
  {
   "cell_type": "code",
   "execution_count": 155,
   "id": "d8f7b93f",
   "metadata": {},
   "outputs": [],
   "source": [
    "from datetime import datetime"
   ]
  },
  {
   "cell_type": "markdown",
   "id": "ef842959",
   "metadata": {},
   "source": [
    "## datetime 메서드\n",
    "날짜 시간 구하기"
   ]
  },
  {
   "cell_type": "code",
   "execution_count": 156,
   "id": "69df348a",
   "metadata": {},
   "outputs": [
    {
     "data": {
      "text/plain": [
       "datetime.datetime(2023, 6, 9, 15, 24, 37, 398350)"
      ]
     },
     "execution_count": 156,
     "metadata": {},
     "output_type": "execute_result"
    }
   ],
   "source": [
    "datetime.today()"
   ]
  },
  {
   "cell_type": "code",
   "execution_count": 157,
   "id": "67ac86c6",
   "metadata": {},
   "outputs": [
    {
     "data": {
      "text/plain": [
       "datetime.datetime(2023, 6, 9, 15, 24, 40, 478673)"
      ]
     },
     "execution_count": 157,
     "metadata": {},
     "output_type": "execute_result"
    }
   ],
   "source": [
    "datetime.now()"
   ]
  },
  {
   "cell_type": "markdown",
   "id": "46cf0ec8",
   "metadata": {},
   "source": [
    "UTC(국제 표준시) 기준으로 구하기"
   ]
  },
  {
   "cell_type": "code",
   "execution_count": 109,
   "id": "0122c433",
   "metadata": {},
   "outputs": [],
   "source": [
    "import pytz"
   ]
  },
  {
   "cell_type": "code",
   "execution_count": 143,
   "id": "173136a7",
   "metadata": {},
   "outputs": [
    {
     "data": {
      "text/plain": [
       "datetime.datetime(2023, 6, 9, 6, 23, 3, 502478, tzinfo=<UTC>)"
      ]
     },
     "execution_count": 143,
     "metadata": {},
     "output_type": "execute_result"
    }
   ],
   "source": [
    "dt.now(pytz.timezone('UTC'))"
   ]
  },
  {
   "cell_type": "markdown",
   "id": "82c6d146",
   "metadata": {},
   "source": [
    "### 시간 객체 만들기"
   ]
  },
  {
   "cell_type": "code",
   "execution_count": 159,
   "id": "a26a55a6",
   "metadata": {},
   "outputs": [
    {
     "data": {
      "text/plain": [
       "datetime.datetime(2023, 6, 9, 0, 0)"
      ]
     },
     "execution_count": 159,
     "metadata": {},
     "output_type": "execute_result"
    }
   ],
   "source": [
    "d = datetime(2023, 6, 9)\n",
    "d"
   ]
  },
  {
   "cell_type": "markdown",
   "id": "1e91c83e",
   "metadata": {},
   "source": [
    "#### strftime 메소드\n",
    "time strftime과 비슷하다. datetime객체를 string객체로 반환"
   ]
  },
  {
   "cell_type": "code",
   "execution_count": 116,
   "id": "c0d8ba8a",
   "metadata": {},
   "outputs": [
    {
     "data": {
      "text/plain": [
       "'2023-06-09'"
      ]
     },
     "execution_count": 116,
     "metadata": {},
     "output_type": "execute_result"
    }
   ],
   "source": [
    "string = d.strftime('%Y-%m-%d')\n",
    "string"
   ]
  },
  {
   "cell_type": "markdown",
   "id": "fd764047",
   "metadata": {},
   "source": [
    "#### strptime 메소드\n",
    "time strptime과 비슷하다. string객체를 datetime객체로 반환"
   ]
  },
  {
   "cell_type": "code",
   "execution_count": 120,
   "id": "3f31752d",
   "metadata": {
    "scrolled": false
   },
   "outputs": [
    {
     "data": {
      "text/plain": [
       "datetime.datetime(2023, 6, 9, 0, 0)"
      ]
     },
     "execution_count": 120,
     "metadata": {},
     "output_type": "execute_result"
    }
   ],
   "source": [
    "d.strptime(string, '%Y-%m-%d')"
   ]
  },
  {
   "cell_type": "code",
   "execution_count": 160,
   "id": "504fce92",
   "metadata": {},
   "outputs": [
    {
     "data": {
      "text/plain": [
       "(2023, 6, 9, 15, 24, 53, 576722)"
      ]
     },
     "execution_count": 160,
     "metadata": {},
     "output_type": "execute_result"
    }
   ],
   "source": [
    "d = datetime.today()\n",
    "d.year, d.month, d.day, d.hour, d.minute, d.second, d.microsecond"
   ]
  },
  {
   "cell_type": "markdown",
   "id": "0026f8ef",
   "metadata": {},
   "source": [
    "#### 날짜와 시간 차이 계산"
   ]
  },
  {
   "cell_type": "code",
   "execution_count": 161,
   "id": "1502ec69",
   "metadata": {},
   "outputs": [
    {
     "data": {
      "text/plain": [
       "datetime.datetime(2023, 5, 30, 0, 0)"
      ]
     },
     "execution_count": 161,
     "metadata": {},
     "output_type": "execute_result"
    }
   ],
   "source": [
    "d = datetime(2023, 6, 9)\n",
    "d - dt.timedelta(days=10)"
   ]
  },
  {
   "cell_type": "code",
   "execution_count": 164,
   "id": "237f1359",
   "metadata": {},
   "outputs": [
    {
     "data": {
      "text/plain": [
       "datetime.timedelta(days=10)"
      ]
     },
     "execution_count": 164,
     "metadata": {},
     "output_type": "execute_result"
    }
   ],
   "source": [
    "datetime(2023, 6 ,9) - datetime(2023, 5, 30, 0, 0)"
   ]
  }
 ],
 "metadata": {
  "kernelspec": {
   "display_name": "Python 3 (ipykernel)",
   "language": "python",
   "name": "python3"
  },
  "language_info": {
   "codemirror_mode": {
    "name": "ipython",
    "version": 3
   },
   "file_extension": ".py",
   "mimetype": "text/x-python",
   "name": "python",
   "nbconvert_exporter": "python",
   "pygments_lexer": "ipython3",
   "version": "3.9.7"
  }
 },
 "nbformat": 4,
 "nbformat_minor": 5
}
