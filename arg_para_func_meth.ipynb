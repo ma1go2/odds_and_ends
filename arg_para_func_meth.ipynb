{
 "cells": [
  {
   "cell_type": "markdown",
   "id": "2c887735",
   "metadata": {},
   "source": [
    "**인자(Argument)**: 함수 호출시 전달되는 값  \n",
    "**매개 변수(Parameter)**: 전달된 인자를 받아들이는 변수"
   ]
  },
  {
   "cell_type": "code",
   "execution_count": 1,
   "id": "861e8fcd",
   "metadata": {},
   "outputs": [
    {
     "data": {
      "text/plain": [
       "1"
      ]
     },
     "execution_count": 1,
     "metadata": {},
     "output_type": "execute_result"
    }
   ],
   "source": [
    "def func(parameter):\n",
    "    return parameter\n",
    "\n",
    "argument=1\n",
    "func(argument)"
   ]
  },
  {
   "cell_type": "markdown",
   "id": "5038e6b6",
   "metadata": {},
   "source": [
    "인자에 기본값을 대입하는 경우 기본값을 대입한 인자는 마지막에 위치해야한다."
   ]
  },
  {
   "cell_type": "code",
   "execution_count": 22,
   "id": "9b4b47dd",
   "metadata": {},
   "outputs": [
    {
     "data": {
      "text/plain": [
       "4"
      ]
     },
     "execution_count": 22,
     "metadata": {},
     "output_type": "execute_result"
    }
   ],
   "source": [
    "def func2(p1, p2=3):\n",
    "    return p1+p2\n",
    "\n",
    "a=1\n",
    "func2(a)"
   ]
  },
  {
   "cell_type": "markdown",
   "id": "2b80dd11",
   "metadata": {},
   "source": [
    "**함수(Function)**: 함수는 독립적으로 정의된 것이다.  \n",
    "함수는 이름을 통해 사용할 수 있다.  \n",
    "함수의 값을 변수에 대입할 수 있다."
   ]
  },
  {
   "cell_type": "code",
   "execution_count": 26,
   "id": "1c0dd07e",
   "metadata": {},
   "outputs": [
    {
     "name": "stdout",
     "output_type": "stream",
     "text": [
      "함수\n"
     ]
    },
    {
     "data": {
      "text/plain": [
       "2"
      ]
     },
     "execution_count": 26,
     "metadata": {},
     "output_type": "execute_result"
    }
   ],
   "source": [
    "a = '함수'\n",
    "print(a)\n",
    "type(a)\n",
    "len(a)"
   ]
  },
  {
   "cell_type": "code",
   "execution_count": 27,
   "id": "c2801fae",
   "metadata": {},
   "outputs": [
    {
     "data": {
      "text/plain": [
       "str"
      ]
     },
     "execution_count": 27,
     "metadata": {},
     "output_type": "execute_result"
    }
   ],
   "source": [
    "b = type(a)\n",
    "b"
   ]
  },
  {
   "cell_type": "markdown",
   "id": "b31d7032",
   "metadata": {},
   "source": [
    "**메소드(Method)**:메소드는 객체(object)와 연관되어 사용된다.  \n",
    "메소드는 이름만으로 호출 불가능. 해당 클래스에 종속된다."
   ]
  },
  {
   "cell_type": "code",
   "execution_count": 50,
   "id": "efbe1f2a",
   "metadata": {},
   "outputs": [
    {
     "data": {
      "text/plain": [
       "['메', '소', '드', '이', '다', '.']"
      ]
     },
     "execution_count": 50,
     "metadata": {},
     "output_type": "execute_result"
    }
   ],
   "source": [
    "c = list('메소드이다')\n",
    "c.append('.')\n",
    "c"
   ]
  },
  {
   "cell_type": "code",
   "execution_count": 51,
   "id": "4cb76304",
   "metadata": {},
   "outputs": [
    {
     "data": {
      "text/plain": [
       "['a', 'b', 'c', 'd']"
      ]
     },
     "execution_count": 51,
     "metadata": {},
     "output_type": "execute_result"
    }
   ],
   "source": [
    "d = 'a,b,c,d'\n",
    "d.split(',')"
   ]
  }
 ],
 "metadata": {
  "kernelspec": {
   "display_name": "Python 3 (ipykernel)",
   "language": "python",
   "name": "python3"
  },
  "language_info": {
   "codemirror_mode": {
    "name": "ipython",
    "version": 3
   },
   "file_extension": ".py",
   "mimetype": "text/x-python",
   "name": "python",
   "nbconvert_exporter": "python",
   "pygments_lexer": "ipython3",
   "version": "3.9.7"
  }
 },
 "nbformat": 4,
 "nbformat_minor": 5
}
