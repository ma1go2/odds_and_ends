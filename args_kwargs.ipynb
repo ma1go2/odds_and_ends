{
 "cells": [
  {
   "cell_type": "markdown",
   "id": "22064c6d",
   "metadata": {},
   "source": [
    "\\*args, **kwargs"
   ]
  },
  {
   "cell_type": "markdown",
   "id": "83bb5446",
   "metadata": {},
   "source": [
    "args는 arguments의 줄임말로 args말고 다른 단어를 써도 상관은 없다.  \n",
    "이 지시어는 가변 인자를 함수로 받고자 할 때 쓰인다.  "
   ]
  },
  {
   "cell_type": "code",
   "execution_count": 12,
   "id": "20433185",
   "metadata": {
    "scrolled": true
   },
   "outputs": [
    {
     "name": "stdout",
     "output_type": "stream",
     "text": [
      "(4, 5, 6)\n"
     ]
    }
   ],
   "source": [
    "def args(a,b,c,*args):\n",
    "    print(args)\n",
    "    \n",
    "args(1,2,3,4,5,6) "
   ]
  },
  {
   "cell_type": "markdown",
   "id": "a0177f68",
   "metadata": {},
   "source": [
    "a,b,c(1,2,3) 다음의 수 4,5,6이 튜플의 형태로 args에 저장된다."
   ]
  },
  {
   "cell_type": "markdown",
   "id": "83ed7fd3",
   "metadata": {},
   "source": [
    "kwargs는 keyword arguments의 줄임말로 args와 비슷하다.  \n",
    "args와 다른점은 파라미터명을 같이 보낼 수 있다."
   ]
  },
  {
   "cell_type": "code",
   "execution_count": 16,
   "id": "dc56ed00",
   "metadata": {
    "scrolled": true
   },
   "outputs": [
    {
     "name": "stdout",
     "output_type": "stream",
     "text": [
      "{'test': 'a', 'check': 3}\n"
     ]
    }
   ],
   "source": [
    "def kwargs(**kwargs):\n",
    "    print(kwargs)\n",
    "\n",
    "kwargs(test=\"a\",check=3)"
   ]
  },
  {
   "cell_type": "markdown",
   "id": "4dd8d021",
   "metadata": {},
   "source": [
    "kwargs에 딕셔너리 형태로 저장된다."
   ]
  },
  {
   "cell_type": "code",
   "execution_count": 7,
   "id": "3308bdfd",
   "metadata": {},
   "outputs": [],
   "source": [
    "def func3(func,*args,**kwargs): # 이 순서로 호출해야 한다."
   ]
  }
 ],
 "metadata": {
  "kernelspec": {
   "display_name": "Python 3 (ipykernel)",
   "language": "python",
   "name": "python3"
  },
  "language_info": {
   "codemirror_mode": {
    "name": "ipython",
    "version": 3
   },
   "file_extension": ".py",
   "mimetype": "text/x-python",
   "name": "python",
   "nbconvert_exporter": "python",
   "pygments_lexer": "ipython3",
   "version": "3.9.7"
  }
 },
 "nbformat": 4,
 "nbformat_minor": 5
}
