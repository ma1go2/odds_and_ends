{
 "cells": [
  {
   "cell_type": "code",
   "execution_count": 10,
   "id": "6dc51826",
   "metadata": {},
   "outputs": [],
   "source": [
    "import os\n",
    "import time\n",
    "import glob"
   ]
  },
  {
   "cell_type": "code",
   "execution_count": 15,
   "id": "3a077cf3",
   "metadata": {},
   "outputs": [
    {
     "name": "stdout",
     "output_type": "stream",
     "text": [
      "변경 전\n",
      "['C:/Users/mangg/Downloads\\\\2023-05-25-Markdown_Cheat_Sheet.md', 'C:/Users/mangg/Downloads\\\\OS_environ.md', 'C:/Users/mangg/Downloads\\\\OS_listdir.md', 'C:/Users/mangg/Downloads\\\\OS_mkdir.md', 'C:/Users/mangg/Downloads\\\\OS_path.md', 'C:/Users/mangg/Downloads\\\\OS_remove.md', 'C:/Users/mangg/Downloads\\\\OS_rename.md']\n",
      "변경 후\n",
      "['C:/Users/mangg/Downloads\\\\2023-06-01-2023-05-25-Markdown_Cheat_Sheet.md', 'C:/Users/mangg/Downloads\\\\2023-06-01-OS_environ.md', 'C:/Users/mangg/Downloads\\\\2023-06-01-OS_listdir.md', 'C:/Users/mangg/Downloads\\\\2023-06-01-OS_mkdir.md', 'C:/Users/mangg/Downloads\\\\2023-06-01-OS_path.md', 'C:/Users/mangg/Downloads\\\\2023-06-01-OS_remove.md', 'C:/Users/mangg/Downloads\\\\2023-06-01-OS_rename.md']\n"
     ]
    }
   ],
   "source": [
    "# .txt 확장명을 가진 파일 얻기\n",
    "path = \"C:/Users/mangg/Downloads/*.md\"\n",
    "\n",
    "#오늘 날짜\n",
    "day = time.strftime('%Y-%m-%d', time.localtime(time.time()))\n",
    "\n",
    "#txt 파일 가져오기\n",
    "flist = glob.glob(path)\n",
    "print('변경 전')\n",
    "print(flist)\n",
    "\n",
    "# 파일 이름을 일괄 변경\n",
    "for file in flist:\n",
    "    file_name = os.path.basename(file) #파일 이름\n",
    "    os.rename(file, 'C:/Users/mangg/Downloads/' + day + '-' + file_name) #오늘날짜 + 이름 바꾸기\n",
    "\n",
    "list = glob.glob(path)\n",
    "print('변경 후')\n",
    "print(list)"
   ]
  }
 ],
 "metadata": {
  "kernelspec": {
   "display_name": "Python 3 (ipykernel)",
   "language": "python",
   "name": "python3"
  },
  "language_info": {
   "codemirror_mode": {
    "name": "ipython",
    "version": 3
   },
   "file_extension": ".py",
   "mimetype": "text/x-python",
   "name": "python",
   "nbconvert_exporter": "python",
   "pygments_lexer": "ipython3",
   "version": "3.9.7"
  }
 },
 "nbformat": 4,
 "nbformat_minor": 5
}
